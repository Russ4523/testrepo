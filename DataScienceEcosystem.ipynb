{
 "cells": [
  {
   "cell_type": "markdown",
   "id": "fc181176-1c99-4642-9b1d-bb8a6fd2b89a",
   "metadata": {},
   "source": [
    "<H1> Data Science Tools and Ecosystem</H1>"
   ]
  },
  {
   "cell_type": "markdown",
   "id": "7c30f006-2673-4cca-90e2-97596759ffaa",
   "metadata": {},
   "source": [
    "In this notebook, Data Science Tools and Ecosystems are summarized."
   ]
  },
  {
   "cell_type": "markdown",
   "id": "5d77a817-e430-41a5-b841-389a2ae3aa61",
   "metadata": {},
   "source": [
    "**Objectives:**\n",
    "\n",
    "+ Popular Languages that Data Scientists use.\n",
    "+ Commonly used Libraries.\n",
    "+ Basic arithmetic expressions.\n",
    "+ Development Environment open source tools."
   ]
  },
  {
   "cell_type": "markdown",
   "id": "126a7cca-b13f-474a-8e9a-23819ced6aed",
   "metadata": {},
   "source": [
    "Some of the popular languages that Data Scientists use are:\n",
    "\n",
    "1. Python\n",
    "2. R/Rstudio\n",
    "3. Structured Query Language (SQL)\n"
   ]
  },
  {
   "cell_type": "markdown",
   "id": "97d9c1dd-4d6b-4c5c-b57f-3fe77b4d4c88",
   "metadata": {},
   "source": [
    "Some of the commonly used libraries used by Data Scientists include:\n",
    "\n",
    "1. Pandas\n",
    "2. NumPy\n",
    "3. Matplotlib\n",
    "4. Seaborn\n",
    "5. Scikit-learn\n",
    "6. Keras\n",
    "7. TensorFlow\n",
    "8. PyTorch"
   ]
  },
  {
   "cell_type": "markdown",
   "id": "0cb7c95c-abd5-4015-9ba4-d8300bdefc0a",
   "metadata": {},
   "source": [
    "|Data Science Tools|\n",
    "|-------|\n",
    "|Jupyter/Jupyter Lab|\n",
    "|Apache Zeppelin|\n",
    "|R Studio|\n"
   ]
  },
  {
   "cell_type": "markdown",
   "id": "4bdd204c-86d8-4316-9cfd-11f7e94b5e0e",
   "metadata": {},
   "source": [
    "<h3> Below are a few examples of evaluation arithmetic expressions in Python</h3>"
   ]
  },
  {
   "cell_type": "markdown",
   "id": "ce462045-bb80-4192-8c6f-e1abe4cecb9c",
   "metadata": {},
   "source": [
    "This is a simple arithmetic expression to mutiply then add integers. "
   ]
  },
  {
   "cell_type": "code",
   "execution_count": 8,
   "id": "a8d74011-60be-4e7b-a5d7-ef78b0b8de1d",
   "metadata": {},
   "outputs": [
    {
     "data": {
      "text/plain": [
       "17"
      ]
     },
     "execution_count": 8,
     "metadata": {},
     "output_type": "execute_result"
    }
   ],
   "source": [
    "(3*4)+5"
   ]
  },
  {
   "cell_type": "markdown",
   "id": "a6f55321-b838-41ab-bc8d-13ec29b69ca2",
   "metadata": {},
   "source": [
    "This will convert 200 minutes to hours diving by 60."
   ]
  },
  {
   "cell_type": "code",
   "execution_count": 14,
   "id": "c8270784-33b3-41a8-be80-dc890e70bc0c",
   "metadata": {},
   "outputs": [
    {
     "data": {
      "text/plain": [
       "3.3333333333333335"
      ]
     },
     "execution_count": 14,
     "metadata": {},
     "output_type": "execute_result"
    }
   ],
   "source": [
    "200/60"
   ]
  },
  {
   "cell_type": "markdown",
   "id": "71c04c57-d3d1-43b6-aa63-ca6c1cc9a548",
   "metadata": {},
   "source": [
    "<h2>Author</h2>\n",
    "Russell Maestas"
   ]
  }
 ],
 "metadata": {
  "kernelspec": {
   "display_name": "Python [conda env:base] *",
   "language": "python",
   "name": "conda-base-py"
  },
  "language_info": {
   "codemirror_mode": {
    "name": "ipython",
    "version": 3
   },
   "file_extension": ".py",
   "mimetype": "text/x-python",
   "name": "python",
   "nbconvert_exporter": "python",
   "pygments_lexer": "ipython3",
   "version": "3.12.7"
  }
 },
 "nbformat": 4,
 "nbformat_minor": 5
}
